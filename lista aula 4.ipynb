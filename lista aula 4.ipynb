{
 "cells": [
  {
   "cell_type": "code",
   "execution_count": 1,
   "id": "54f4fece",
   "metadata": {},
   "outputs": [],
   "source": [
    "#lista\n",
    "lista1 = [1, 'a',2,3]\n",
    "b = [1,2, 3, 4, 5, 6]"
   ]
  },
  {
   "cell_type": "code",
   "execution_count": null,
   "id": "f598c518",
   "metadata": {},
   "outputs": [],
   "source": []
  },
  {
   "cell_type": "code",
   "execution_count": 2,
   "id": "2e3d590b",
   "metadata": {},
   "outputs": [
    {
     "name": "stdout",
     "output_type": "stream",
     "text": [
      "[1, 'a', 2, 3]\n",
      "[1, 2, 3, 4, 5, 6]\n"
     ]
    }
   ],
   "source": [
    "print(lista1)\n",
    "print(b)"
   ]
  },
  {
   "cell_type": "code",
   "execution_count": 4,
   "id": "fe55796b",
   "metadata": {},
   "outputs": [
    {
     "name": "stdout",
     "output_type": "stream",
     "text": [
      "1\n",
      "3\n"
     ]
    }
   ],
   "source": [
    "#acesando os elementos da lista\n",
    "print(lista1[0])\n",
    "print(b[2])\n",
    "\n",
    "        "
   ]
  },
  {
   "cell_type": "code",
   "execution_count": 5,
   "id": "40565db3",
   "metadata": {},
   "outputs": [],
   "source": [
    "# modificando um elemento da lista\n",
    "b[2]= 15"
   ]
  },
  {
   "cell_type": "code",
   "execution_count": 6,
   "id": "1f51a266",
   "metadata": {},
   "outputs": [],
   "source": [
    "# Modificando em elemento da lista\n",
    "b[2]=15"
   ]
  },
  {
   "cell_type": "raw",
   "id": "0bfe5837",
   "metadata": {},
   "source": []
  },
  {
   "cell_type": "code",
   "execution_count": 7,
   "id": "5b25fd84",
   "metadata": {},
   "outputs": [
    {
     "name": "stdout",
     "output_type": "stream",
     "text": [
      "[1, 2, 15, 4, 5, 6]\n"
     ]
    }
   ],
   "source": [
    "#Verificando a nova lista b\n",
    "print (b)\n"
   ]
  },
  {
   "cell_type": "markdown",
   "id": "638e0f34",
   "metadata": {},
   "source": [
    "# ordenando lista"
   ]
  },
  {
   "cell_type": "code",
   "execution_count": 9,
   "id": "f4652c8c",
   "metadata": {},
   "outputs": [
    {
     "name": "stdout",
     "output_type": "stream",
     "text": [
      "[1, 2, 4, 5, 6, 15]\n"
     ]
    }
   ],
   "source": [
    "# ORDENANDO A LISTA b\n",
    "\n",
    "c = sorted (b)\n",
    "print (c)"
   ]
  },
  {
   "cell_type": "raw",
   "id": "e248fc78",
   "metadata": {},
   "source": []
  },
  {
   "cell_type": "code",
   "execution_count": 10,
   "id": "c54a7226",
   "metadata": {},
   "outputs": [],
   "source": [
    "# usando o metodo sort\n",
    "d = b.sort()"
   ]
  },
  {
   "cell_type": "code",
   "execution_count": 11,
   "id": "ae5cb861",
   "metadata": {},
   "outputs": [
    {
     "name": "stdout",
     "output_type": "stream",
     "text": [
      "None\n"
     ]
    }
   ],
   "source": [
    "print(d)"
   ]
  },
  {
   "cell_type": "code",
   "execution_count": 12,
   "id": "80aedf39",
   "metadata": {},
   "outputs": [
    {
     "name": "stdout",
     "output_type": "stream",
     "text": [
      "[1, 2, 4, 5, 6, 15]\n"
     ]
    }
   ],
   "source": [
    "print(b)"
   ]
  },
  {
   "cell_type": "code",
   "execution_count": 13,
   "id": "aab95785",
   "metadata": {},
   "outputs": [],
   "source": [
    "e = [2, 13,6,1, 9]"
   ]
  },
  {
   "cell_type": "code",
   "execution_count": 14,
   "id": "aae0ad43",
   "metadata": {},
   "outputs": [
    {
     "name": "stdout",
     "output_type": "stream",
     "text": [
      "None\n"
     ]
    }
   ],
   "source": [
    "print (e.sort())"
   ]
  },
  {
   "cell_type": "code",
   "execution_count": 15,
   "id": "b73a44ee",
   "metadata": {},
   "outputs": [
    {
     "name": "stdout",
     "output_type": "stream",
     "text": [
      "[1, 2, 6, 9, 13]\n"
     ]
    }
   ],
   "source": [
    "print(e)"
   ]
  },
  {
   "cell_type": "code",
   "execution_count": null,
   "id": "6fd0cb3d",
   "metadata": {},
   "outputs": [],
   "source": []
  }
 ],
 "metadata": {
  "kernelspec": {
   "display_name": "Python 3 (ipykernel)",
   "language": "python",
   "name": "python3"
  },
  "language_info": {
   "codemirror_mode": {
    "name": "ipython",
    "version": 3
   },
   "file_extension": ".py",
   "mimetype": "text/x-python",
   "name": "python",
   "nbconvert_exporter": "python",
   "pygments_lexer": "ipython3",
   "version": "3.10.9"
  }
 },
 "nbformat": 4,
 "nbformat_minor": 5
}
